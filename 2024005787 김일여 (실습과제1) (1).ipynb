{
 "cells": [
  {
   "cell_type": "code",
   "execution_count": 3,
   "id": "df6e3431",
   "metadata": {},
   "outputs": [],
   "source": [
    "from itertools import combinations"
   ]
  },
  {
   "cell_type": "markdown",
   "id": "27c84adb",
   "metadata": {},
   "source": [
    "'itertools' 모듈에서 'combinations' 함수를 가져옴 : 주어진 리스트에서 가능한 모든 조합을 생성해냄"
   ]
  },
  {
   "cell_type": "code",
   "execution_count": null,
   "id": "ab0321a2",
   "metadata": {},
   "outputs": [],
   "source": [
    "def is_prime(n):\n",
    "    if n <= 1:\n",
    "        return False\n",
    "    for i in range(2, n):\n",
    "        if n % i == 0:\n",
    "            return False\n",
    "    return True"
   ]
  },
  {
   "cell_type": "markdown",
   "id": "f81a658e",
   "metadata": {},
   "source": [
    "is_prime이라는 함수를 만들어 소수인지 아닌지 반환하도록 함 \n",
    "- 1이하의 수는 소수가 아님\n",
    "- 1과 자기자신을 제외한 수로 나누었을 때 나머지가 0이 되면 소수가 아님\n",
    "- 이 모든 상황을 만족하지 않으면 소수임"
   ]
  },
  {
   "cell_type": "code",
   "execution_count": null,
   "id": "ebdec60a",
   "metadata": {},
   "outputs": [],
   "source": [
    "def solution(nums):\n",
    "    count = 0\n",
    "    for comb in combinations(nums, 3):\n",
    "        if is_prime(sum(comb)):\n",
    "            count += 1\n",
    "    return count"
   ]
  },
  {
   "cell_type": "markdown",
   "id": "19f12195",
   "metadata": {},
   "source": [
    "1. solution이라는 함수를 만듦\n",
    "2. 반복되지 않는 3개의 숫자의 조합들 중 그 수들의 합이 소수이면 count에 1을 더함\n",
    "3. count의 값을 반환함"
   ]
  },
  {
   "cell_type": "code",
   "execution_count": null,
   "id": "70f337da",
   "metadata": {},
   "outputs": [],
   "source": [
    "nums = input().split()\n",
    "nums = [int(i) for i in nums]\n",
    "print(solution(nums))"
   ]
  },
  {
   "cell_type": "markdown",
   "id": "b50e53d8",
   "metadata": {},
   "source": [
    "nums를 입력받아 리스트로 변경하여 solution(nums)의 결과를 출력함"
   ]
  }
 ],
 "metadata": {
  "kernelspec": {
   "display_name": "Python 3 (ipykernel)",
   "language": "python",
   "name": "python3"
  },
  "language_info": {
   "codemirror_mode": {
    "name": "ipython",
    "version": 3
   },
   "file_extension": ".py",
   "mimetype": "text/x-python",
   "name": "python",
   "nbconvert_exporter": "python",
   "pygments_lexer": "ipython3",
   "version": "3.9.12"
  }
 },
 "nbformat": 4,
 "nbformat_minor": 5
}
